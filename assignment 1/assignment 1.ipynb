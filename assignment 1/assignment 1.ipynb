{
 "cells": [
  {
   "cell_type": "code",
   "execution_count": 1,
   "id": "3350f17b",
   "metadata": {},
   "outputs": [
    {
     "name": "stdout",
     "output_type": "stream",
     "text": [
      "Twinkle,Twinkle,little star,\n",
      "        How I wonder what you are!\n",
      "               up above the world so high,\n",
      "               Like the diamond in the sky.\n",
      "Twinkle,Twinkle,little star,\n",
      "        How I wonder what you are!\n"
     ]
    }
   ],
   "source": [
    "print(\"Twinkle,Twinkle,little star,\")\n",
    "print(\"        How I wonder what you are!\")\n",
    "print(\"               up above the world so high,\")\n",
    "print(\"               Like the diamond in the sky.\")\n",
    "print(\"Twinkle,Twinkle,little star,\")\n",
    "print(\"        How I wonder what you are!\")"
   ]
  },
  {
   "cell_type": "code",
   "execution_count": 2,
   "id": "aa392b67",
   "metadata": {},
   "outputs": [
    {
     "name": "stdout",
     "output_type": "stream",
     "text": [
      "3.9.7 (default, Sep 16 2021, 16:59:28) [MSC v.1916 64 bit (AMD64)]\n"
     ]
    }
   ],
   "source": [
    "import sys\n",
    "print(sys.version)"
   ]
  },
  {
   "cell_type": "code",
   "execution_count": 3,
   "id": "7b23f25b",
   "metadata": {},
   "outputs": [
    {
     "name": "stdout",
     "output_type": "stream",
     "text": [
      "Current date and time : \n",
      "2022-01-01 20:40:55\n"
     ]
    }
   ],
   "source": [
    "import datetime\n",
    "now = datetime.datetime.now()\n",
    "print (\"Current date and time : \")\n",
    "print (now.strftime(\"%Y-%m-%d %H:%M:%S\"))"
   ]
  },
  {
   "cell_type": "code",
   "execution_count": 4,
   "id": "5046547a",
   "metadata": {},
   "outputs": [
    {
     "name": "stdout",
     "output_type": "stream",
     "text": [
      "Input the radius of the circle : 67\n",
      "The area of the circle with radius 67.0 is: 14102.609421964582\n"
     ]
    }
   ],
   "source": [
    "from math import pi\n",
    "radius = float(input (\"Input the radius of the circle : \"))\n",
    "print (\"The area of the circle with radius \" + str(radius) + \" is: \" + str(pi * radius**2))"
   ]
  },
  {
   "cell_type": "code",
   "execution_count": 5,
   "id": "3ee8b824",
   "metadata": {},
   "outputs": [
    {
     "name": "stdout",
     "output_type": "stream",
     "text": [
      "Input your First Name : usama\n",
      "Input your Last Name : sattar\n",
      "Hello  sattar usama\n"
     ]
    }
   ],
   "source": [
    "fname = input(\"Input your First Name : \")\n",
    "lname = input(\"Input your Last Name : \")\n",
    "print (\"Hello  \" + lname + \" \" + fname)"
   ]
  },
  {
   "cell_type": "code",
   "execution_count": 6,
   "id": "f20b18e2",
   "metadata": {},
   "outputs": [
    {
     "name": "stdout",
     "output_type": "stream",
     "text": [
      "Enter first number: 12\n",
      "Enter second number: 23\n",
      "The sum of 12 and 23 is 35.0\n"
     ]
    }
   ],
   "source": [
    "num1 = input('Enter first number: ')\n",
    "num2 = input('Enter second number: ')\n",
    "sum = float(num1) + float(num2)\n",
    "print('The sum of {0} and {1} is {2}'.format(num1, num2, sum))"
   ]
  },
  {
   "cell_type": "code",
   "execution_count": null,
   "id": "8146c43e",
   "metadata": {},
   "outputs": [],
   "source": []
  }
 ],
 "metadata": {
  "kernelspec": {
   "display_name": "Python 3 (ipykernel)",
   "language": "python",
   "name": "python3"
  },
  "language_info": {
   "codemirror_mode": {
    "name": "ipython",
    "version": 3
   },
   "file_extension": ".py",
   "mimetype": "text/x-python",
   "name": "python",
   "nbconvert_exporter": "python",
   "pygments_lexer": "ipython3",
   "version": "3.9.7"
  }
 },
 "nbformat": 4,
 "nbformat_minor": 5
}
